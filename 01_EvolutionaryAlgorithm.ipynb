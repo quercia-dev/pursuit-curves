{
 "cells": [
  {
   "cell_type": "markdown",
   "id": "1f935d60",
   "metadata": {},
   "source": [
    "# Pursuit Evasion Game Evolutionary Algorithm"
   ]
  },
  {
   "cell_type": "markdown",
   "id": "9ecd323f",
   "metadata": {},
   "source": [
    "### Pursuit Evasion Games\n",
    "\n",
    "Pursuit Evasion Games are a subclass of non-cooperative games. The simplest case includes a pursuer and an evader, which in our case are referred to as the predator and prey respectively. The pursuer's objective is to catch the evader, while the evader must avoid capture. This is a zero-sum game of competing interests. The characteristics of the two players are different. In our experiment we give the predator an advantage in top speed, whereas the prey has an agility advantage, encoded as having a higher acceleration. \n",
    "\n",
    "### Game Structure\n",
    "The game has been defined in the `00_Deterministic` notebook, where we also added functionality to simulate, plot, and perform signal processing through discrete cosine transform. The purpose of `00_Deterministic` is to explore the different behaviors that can emerge from this Differential Game. In the next section we will take this game, tweak its architecture and propose an evolutionary algorithm to find the predator and prey's best parameters."
   ]
  },
  {
   "cell_type": "code",
   "execution_count": 1,
   "id": "b2df0ee3",
   "metadata": {},
   "outputs": [],
   "source": [
    "# imports\n",
    "import numpy as np"
   ]
  },
  {
   "cell_type": "markdown",
   "id": "5acc5ffe",
   "metadata": {},
   "source": [
    "## Genomes\n",
    "\n",
    "The first step to evolution is a basic structure to hold the genetic information of the individuals. For this reason, a unqiue genome needs to be defined for the prey and predator. \n",
    "\n",
    "**Predator** \\\n",
    "The predator has the max speed and acceleration parameters, to find the best speed and acceleration combination, as well as a `predicition_factor`, which could be described as how much to look ahead at where the prey could be, and finally a `pursuit_strategy`, what the best way to follow the prey is.\n",
    "\n",
    "**Prey** \\\n",
    "The prey also has the max speed and acceleration parameters, but is also equipped with the ability to change its `reaction_radius`, how close the predator has to be for it to start evading, and its `evasion_angle`, the direction the prey will take to evade."
   ]
  },
  {
   "cell_type": "code",
   "execution_count": 2,
   "id": "3afd2f31",
   "metadata": {},
   "outputs": [],
   "source": [
    "class PredatorGenome:\n",
    "    def __init__(self):\n",
    "        self.max_speed = 0.0\n",
    "        self.max_acceleration = 0.0\n",
    "\n",
    "        self.prediction_factor = 0.0\n",
    "        self.pursuit_strategy = 0.0\n",
    "\n",
    "class PreyGenome:\n",
    "    def __init__(self):\n",
    "        self.max_speed = 0.0\n",
    "        self.max_acceleration = 0.0\n",
    "\n",
    "        self.react_radius = 0.0\n",
    "        self.evasion_angle = 0.0\n",
    "\n",
    "        # experiment with pursuit strategy ?\n"
   ]
  },
  {
   "cell_type": "markdown",
   "id": "f2105a71",
   "metadata": {},
   "source": [
    "## Fitness Function\n",
    "\n",
    "The next important part of an evolutionary algorithm is the fitness function, to quantify how well the current genetic combination of prey and predator are performing. This metric will be important in deciding the \"survival of the fittest\", the best genomes that will go on to reproduce and create the new offspring of agents. Again, we will need a unique way of assessing the fitness of predators and prey, as they have distinct, and competing, interests.\n",
    "\n",
    "**Predator** \\\n",
    "The predator's goal is to catch the prey, so we can start by giving the predator `0` reward if the prey is not caught within the allotted time or distance. From this, a natural fitness measure could be the `capture_time`, where the lower this value is, the better the predator's performance. In addition, we could also look at the predator's `pursuit_efficiency`, which is defined by dividing the straight line distance between the predator's initial position and the eventual capture, and the distance that the predator actual travelled within the simulation.\n",
    "\n",
    "**Prey** \\  \n",
    "For the prey there are a few metrics that could help us understand how well it is evading its pursuer. For one, `survival_time` is crucial, because the longer the prey evades capture, the more effectively it is out of reach of the predator's hungry fangs. We could also look at `total_distance` travelled, which would tell us how far the prey got before it was taken down. Another metric could be a calculation of the `average_distance` the prey was able to keep between itself and the predator. One can imagine that a few strategies may arise for the prey, namely, getting as far away from the predator, and maintaining that distance, but also being just out of reach for the predator, making use of its agility. Because of this, we will be implementing a more nuanced fitness function, rewarding both distance and time away from the predator."
   ]
  },
  {
   "cell_type": "code",
   "execution_count": 3,
   "id": "9c6cc8f3",
   "metadata": {},
   "outputs": [],
   "source": [
    "# Predator Fitness\n",
    "def predator_fitness(simulation_result, w_time=0.5, w_eff=0.5):\n",
    "    if not simulation_result.prey_captured:\n",
    "        return 0.0 # no capture, no reward\n",
    "    \n",
    "    capture_time = 1.0 / (simulation_result.steps_until_capture * simulation_result.params['dt'])\n",
    "\n",
    "    # straight-line distance from start to prey capture\n",
    "    start_pos = simulation_result.state[0, 0, 0, :]\n",
    "    capture_pos = simulation_result.state[simulation_result.steps_until_capture, 0, 0, :]\n",
    "    optimal_distance = np.linalg.norm(capture_pos - start_pos)\n",
    "    \n",
    "    # actual distance traveled\n",
    "    positions = simulation_result.state[:simulation_result.steps_until_capture, 0, 0, :]\n",
    "    actual_distance = np.sum(np.linalg.norm(positions[1:] - positions[:-1], axis=1))\n",
    "    pursuit_efficiency = optimal_distance / actual_distance\n",
    "\n",
    "    return (capture_time * w_time) + (pursuit_efficiency * w_eff)\n",
    "\n",
    "# Prey Fitness\n",
    "def prey_fitness(simulation_result, params, w_surv=0.6, w_avgd=0.2, w_totd=0.2):\n",
    "    survival_time = simulation_result.steps_until_capture * params['dt']\n",
    "    avg_distance = np.mean(positive_distance(simulation_result.state))\n",
    "    prey_positions = simulation_result.state[:, 1, 0, :]\n",
    "    total_distance = np.sum(np.linalg.norm(prey_positions[1:] - prey_positions[:-1], axis=1))\n",
    "    \n",
    "    return (survival_time * w_surv) + (avg_distance * w_avgd) + (total_distance * w_totd)"
   ]
  },
  {
   "cell_type": "markdown",
   "id": "ba7a70a3",
   "metadata": {},
   "source": [
    "## Evolutionary Operators\n",
    "\n",
    "Next we need to define the evolutionary operators: selection, crossover, and mutation."
   ]
  }
 ],
 "metadata": {
  "kernelspec": {
   "display_name": "venv",
   "language": "python",
   "name": "python3"
  },
  "language_info": {
   "codemirror_mode": {
    "name": "ipython",
    "version": 3
   },
   "file_extension": ".py",
   "mimetype": "text/x-python",
   "name": "python",
   "nbconvert_exporter": "python",
   "pygments_lexer": "ipython3",
   "version": "3.12.7"
  }
 },
 "nbformat": 4,
 "nbformat_minor": 5
}
