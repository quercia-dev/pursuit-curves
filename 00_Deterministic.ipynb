{
 "cells": [
  {
   "cell_type": "markdown",
   "id": "8a5d4680",
   "metadata": {},
   "source": [
    "# Deterministic Pursuit-Only Dynamics\n",
    "\n",
    "- The predator accelerates in a straight line towards the prey\n",
    "- The predator has higher speed than the prey"
   ]
  },
  {
   "cell_type": "code",
   "execution_count": 1,
   "id": "ddf18942",
   "metadata": {},
   "outputs": [],
   "source": [
    "from IPython.display import clear_output\n",
    "import numpy as np\n",
    "import matplotlib.pyplot as plt\n",
    "import time"
   ]
  },
  {
   "cell_type": "code",
   "execution_count": 2,
   "id": "cfe77e90",
   "metadata": {},
   "outputs": [],
   "source": [
    "class Agent:\n",
    "    def __init__(self, pos, vel, acc): # add other properties if needed\n",
    "        self.pos = np.array(pos, dtype=float)\n",
    "        self.vel = np.array(vel, dtype=float)\n",
    "        self.acc = np.array(acc, dtype=float)\n",
    "\n",
    "    def move(self, dt):\n",
    "        self.pos += self.vel * dt\n",
    "\n",
    "    def accelerate(self, dt):\n",
    "        self.vel += self.acc * dt"
   ]
  },
  {
   "cell_type": "code",
   "execution_count": 3,
   "id": "9667f8c4",
   "metadata": {},
   "outputs": [],
   "source": [
    "class Predator(Agent):\n",
    "    pass"
   ]
  },
  {
   "cell_type": "code",
   "execution_count": 4,
   "id": "7355bd57",
   "metadata": {},
   "outputs": [],
   "source": [
    "class Prey(Agent):\n",
    "    pass"
   ]
  },
  {
   "cell_type": "code",
   "execution_count": 5,
   "id": "1ae1ca92",
   "metadata": {},
   "outputs": [],
   "source": [
    "predator = Agent([20, 20], [0.5, 1], [0, 0])\n",
    "prey = Agent([50, 50], [0, 0.5], [0,0])"
   ]
  },
  {
   "cell_type": "code",
   "execution_count": 6,
   "id": "cc1bf61f",
   "metadata": {},
   "outputs": [
    {
     "data": {
      "image/png": "[encoded data removed]",
      "text/plain": [
       "<Figure size 500x500 with 1 Axes>"
      ]
     },
     "metadata": {},
     "output_type": "display_data"
    }
   ],
   "source": [
    "# simulation loop\n",
    "for _ in range(70):\n",
    "    predator.move(1)\n",
    "    prey.move(1)\n",
    "\n",
    "    # positions\n",
    "    pred_x, pred_y = predator.pos[0], predator.pos[1]\n",
    "    prey_x, prey_y = prey.pos[0], prey.pos[1]\n",
    "\n",
    "    if (predator.pos == prey.pos).all():\n",
    "        prey.pos = [101, 101]\n",
    "        predator.vel = [0, 0]\n",
    "\n",
    "    clear_output(wait=True)\n",
    "    plt.figure(figsize=(5, 5))\n",
    "    plt.xlim(0, 100)\n",
    "    plt.ylim(0, 100)\n",
    "    plt.scatter(pred_x, pred_y, color='red', label='Predator')\n",
    "    plt.scatter(prey_x, prey_y, color='green', label='Prey')\n",
    "    plt.legend()\n",
    "    plt.show()\n",
    "    time.sleep(0.3)"
   ]
  }
 ],
 "metadata": {
  "kernelspec": {
   "display_name": "venv",
   "language": "python",
   "name": "python3"
  },
  "language_info": {
   "codemirror_mode": {
    "name": "ipython",
    "version": 3
   },
   "file_extension": ".py",
   "mimetype": "text/x-python",
   "name": "python",
   "nbconvert_exporter": "python",
   "pygments_lexer": "ipython3",
   "version": "3.12.7"
  }
 },
 "nbformat": 4,
 "nbformat_minor": 5
}
